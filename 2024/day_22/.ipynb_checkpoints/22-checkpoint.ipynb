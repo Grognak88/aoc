{
 "cells": [
  {
   "cell_type": "code",
   "execution_count": 4,
   "id": "2ca15175-f56f-4b62-ba7c-eb834a52fed1",
   "metadata": {},
   "outputs": [],
   "source": [
    "from aocd.models import Puzzle\n",
    "\n",
    "puzzle = Puzzle(year=2024, day=22)"
   ]
  },
  {
   "cell_type": "code",
   "execution_count": 11,
   "id": "3bf29bf6-8d54-4140-aa9a-eaeb2b4abb18",
   "metadata": {},
   "outputs": [],
   "source": [
    "indata = puzzle.input_data"
   ]
  },
  {
   "cell_type": "code",
   "execution_count": 6,
   "id": "14ec9427-32f7-48be-a1a7-cc3612d00c83",
   "metadata": {},
   "outputs": [
    {
     "name": "stderr",
     "output_type": "stream",
     "text": [
      "/usr/bin/xdg-open: 882: x-www-browser: not found\n",
      "/usr/bin/xdg-open: 882: firefox: not found\n",
      "/usr/bin/xdg-open: 882: iceweasel: not found\n",
      "/usr/bin/xdg-open: 882: seamonkey: not found\n",
      "/usr/bin/xdg-open: 882: mozilla: not found\n",
      "/usr/bin/xdg-open: 882: epiphany: not found\n",
      "/usr/bin/xdg-open: 882: konqueror: not found\n",
      "/usr/bin/xdg-open: 882: chromium: not found\n",
      "/usr/bin/xdg-open: 882: chromium-browser: not found\n",
      "/usr/bin/xdg-open: 882: google-chrome: not found\n",
      "SECURITY NOTE: file ~/.netrc must not be accessible by others\n"
     ]
    },
    {
     "name": "stdout",
     "output_type": "stream",
     "text": [
      "Advent of Code\n",
      "\n",
      "  • [About]\n",
      "  • [Events]\n",
      "  • [Shop]\n",
      "  • [Log In]\n",
      "\n",
      "          2024\n",
      "\n",
      "  • [Calendar]\n",
      "  • [AoC++]\n",
      "  • [Sponsors]\n",
      "  • [Leaderboard]\n",
      "  • [Stats]\n",
      "\n",
      "Our sponsors help make Advent of Code possible:\n",
      "Splunk - Come build a more resilient digital world with us.\n",
      "\n",
      "--- Day 22: Monkey Market ---\n",
      "\n",
      "As you're all teleported deep into the jungle, a monkey steals The Historians'\n",
      "device! You'll need get it back while The Historians are looking for the Chief.\n",
      "\n",
      "The monkey that stole the device seems willing to trade it, but only in\n",
      "exchange for an absurd number of bananas. Your only option is to buy bananas on\n",
      "the Monkey Exchange Market.\n",
      "\n",
      "You aren't sure how the Monkey Exchange Market works, but one of The Historians\n",
      "senses trouble and comes over to help. Apparently, they've been studying these\n",
      "monkeys for a while and have deciphered their secrets.\n",
      "\n",
      "Today, the Market is full of monkeys buying good hiding spots. Fortunately,\n",
      "because of the time you recently spent in this jungle, you know lots of good\n",
      "hiding spots you can sell! If you sell enough hiding spots, you should be able\n",
      "to get enough bananas to buy the device back.\n",
      "\n",
      "On the Market, the buyers seem to use random prices, but their prices are\n",
      "actually only pseudorandom! If you know the secret of how they pick their\n",
      "prices, you can wait for the perfect time to sell.\n",
      "\n",
      "The part about secrets is literal, the Historian explains. Each buyer produces\n",
      "a pseudorandom sequence of secret numbers where each secret is derived from the\n",
      "previous.\n",
      "\n",
      "In particular, each buyer's secret number evolves into the next secret number\n",
      "in the sequence via the following process:\n",
      "\n",
      "  • Calculate the result of multiplying the secret number by 64. Then, mix this\n",
      "    result into the secret number. Finally, prune the secret number.\n",
      "  • Calculate the result of dividing the secret number by 32. Round the result\n",
      "    down to the nearest integer. Then, mix this result into the secret number.\n",
      "    Finally, prune the secret number.\n",
      "  • Calculate the result of multiplying the secret number by 2048. Then, mix\n",
      "    this result into the secret number. Finally, prune the secret number.\n",
      "\n",
      "Each step of the above process involves mixing and pruning:\n",
      "\n",
      "  • To mix a value into the secret number, calculate the bitwise XOR of the\n",
      "    given value and the secret number. Then, the secret number becomes the\n",
      "    result of that operation. (If the secret number is 42 and you were to mix\n",
      "    15 into the secret number, the secret number would become 37.)\n",
      "  • To prune the secret number, calculate the value of the secret number modulo\n",
      "    16777216. Then, the secret number becomes the result of that operation. (If\n",
      "    the secret number is 100000000 and you were to prune the secret number, the\n",
      "    secret number would become 16113920.)\n",
      "\n",
      "After this process completes, the buyer is left with the next secret number in\n",
      "the sequence. The buyer can repeat this process as many times as necessary to\n",
      "produce more secret numbers.\n",
      "\n",
      "So, if a buyer had a secret number of 123, that buyer's next ten secret numbers\n",
      "would be:\n",
      "\n",
      "15887950\n",
      "16495136\n",
      "527345\n",
      "704524\n",
      "1553684\n",
      "12683156\n",
      "11100544\n",
      "12249484\n",
      "7753432\n",
      "5908254\n",
      "\n",
      "Each buyer uses their own secret number when choosing their price, so it's\n",
      "important to be able to predict the sequence of secret numbers for each buyer.\n",
      "Fortunately, the Historian's research has uncovered the initial secret number\n",
      "of each buyer (your puzzle input). For example:\n",
      "\n",
      "1\n",
      "10\n",
      "100\n",
      "2024\n",
      "\n",
      "This list describes the initial secret number of four different\n",
      "secret-hiding-spot-buyers on the Monkey Exchange Market. If you can simulate\n",
      "secret numbers from each buyer, you'll be able to predict all of their future\n",
      "prices.\n",
      "\n",
      "In a single day, buyers each have time to generate 2000 new secret numbers. In\n",
      "this example, for each buyer, their initial secret number and the 2000th new\n",
      "secret number they would generate are:\n",
      "\n",
      "1: 8685429\n",
      "10: 4700978\n",
      "100: 15273692\n",
      "2024: 8667524\n",
      "\n",
      "Adding up the 2000th new secret number for each buyer produces 37327623.\n",
      "\n",
      "For each buyer, simulate the creation of 2000 new secret numbers. What is the\n",
      "sum of the 2000th secret number generated by each buyer?\n",
      "\n",
      "To play, please identify yourself via one of these services:\n",
      "\n",
      "[GitHub] [Google] [Twitter] [Reddit] - [How Does Auth Work?]\n",
      "\n"
     ]
    }
   ],
   "source": [
    "puzzle.view()"
   ]
  },
  {
   "cell_type": "code",
   "execution_count": 10,
   "id": "882b4639-631d-41d2-8e47-237cc6431e35",
   "metadata": {},
   "outputs": [],
   "source": [
    "def mixin(a,b):\n",
    "    return a ^ b\n",
    "\n",
    "def prune(a):\n",
    "    return a % 16777216"
   ]
  },
  {
   "cell_type": "code",
   "execution_count": 12,
   "id": "efb4e03b-6835-4002-b66e-f58cbce8424d",
   "metadata": {},
   "outputs": [],
   "source": [
    "data = indata.split(\"\\n\")"
   ]
  },
  {
   "cell_type": "code",
   "execution_count": 14,
   "id": "484e39ef-9e0d-4d75-833f-f72399e012a3",
   "metadata": {},
   "outputs": [],
   "source": [
    "data = dict.fromkeys(data)"
   ]
  },
  {
   "cell_type": "code",
   "execution_count": 16,
   "id": "688f6f8e-7a8e-4cd2-b0ef-785c161739eb",
   "metadata": {},
   "outputs": [],
   "source": [
    "def evolve_number(num):\n",
    "    step1 = num * 64\n",
    "    step1 = mixin(num,step1)\n",
    "    step1 = prune(step1)\n",
    "\n",
    "    step2 = step1 // 32\n",
    "    step2 = mixin(step1, step2)\n",
    "    step2 = prune(step2)\n",
    "\n",
    "    step3 = step2 * 2048\n",
    "    step3 = mixin(step2, step3)\n",
    "    step3 = prune(step3)\n",
    "\n",
    "    return step3"
   ]
  },
  {
   "cell_type": "code",
   "execution_count": 18,
   "id": "2dde100c-6c8f-4dcc-ace4-ba2c48993b5c",
   "metadata": {},
   "outputs": [],
   "source": [
    "def work(start):\n",
    "    accum = []\n",
    "    current = start\n",
    "    for i in range(2000):\n",
    "        current = evolve_number(current)\n",
    "        accum.append(current)\n",
    "\n",
    "    return accum"
   ]
  },
  {
   "cell_type": "code",
   "execution_count": 19,
   "id": "b71e0388-bbfc-455d-9459-95b310405c5e",
   "metadata": {},
   "outputs": [],
   "source": [
    "for key in data:\n",
    "    data[key] = work(int(key))"
   ]
  },
  {
   "cell_type": "code",
   "execution_count": 21,
   "id": "7da23d37-40d9-4834-8c1b-1bc7a7972d5b",
   "metadata": {},
   "outputs": [],
   "source": [
    "two_thousandth = []\n",
    "\n",
    "for key, val in data.items():\n",
    "    two_thousandth.append(val[-1])\n",
    "\n",
    "\n",
    "a = sum(two_thousandth)"
   ]
  },
  {
   "cell_type": "code",
   "execution_count": 22,
   "id": "c128332e-a542-497c-ae64-efc004a4d9e5",
   "metadata": {},
   "outputs": [
    {
     "name": "stderr",
     "output_type": "stream",
     "text": [
      "answer a: None\n",
      "submitting for part a\n"
     ]
    },
    {
     "name": "stdout",
     "output_type": "stream",
     "text": [
      "\u001b[32mThat's the right answer!  You are one gold star closer to finding the Chief Historian. [Continue to Part Two]\u001b[0m\n"
     ]
    },
    {
     "data": {
      "text/plain": [
       "<urllib3.response.HTTPResponse at 0x7fe05e7bf7c0>"
      ]
     },
     "execution_count": 22,
     "metadata": {},
     "output_type": "execute_result"
    },
    {
     "name": "stderr",
     "output_type": "stream",
     "text": [
      "/usr/bin/xdg-open: 882: x-www-browser: not found\n",
      "/usr/bin/xdg-open: 882: firefox: not found\n",
      "/usr/bin/xdg-open: 882: iceweasel: not found\n",
      "/usr/bin/xdg-open: 882: seamonkey: not found\n",
      "/usr/bin/xdg-open: 882: mozilla: not found\n",
      "/usr/bin/xdg-open: 882: epiphany: not found\n",
      "/usr/bin/xdg-open: 882: konqueror: not found\n",
      "/usr/bin/xdg-open: 882: chromium: not found\n",
      "/usr/bin/xdg-open: 882: chromium-browser: not found\n",
      "/usr/bin/xdg-open: 882: google-chrome: not found\n",
      "SECURITY NOTE: file ~/.netrc must not be accessible by others\n"
     ]
    },
    {
     "name": "stdout",
     "output_type": "stream",
     "text": [
      "Advent of Code\n",
      "\n",
      "  • [About]\n",
      "  • [Events]\n",
      "  • [Shop]\n",
      "  • [Log In]\n",
      "\n",
      "      /^2024$/\n",
      "\n",
      "  • [Calendar]\n",
      "  • [AoC++]\n",
      "  • [Sponsors]\n",
      "  • [Leaderboard]\n",
      "  • [Stats]\n",
      "\n",
      "Our sponsors help make Advent of Code possible:\n",
      "Optiver - Ready to solve puzzles for a living? We’re hiring C++, C# and Python\n",
      "experts to code sub-nanosecond trading systems. Get ready for problem solving,\n",
      "continuous learning and the freedom to bring your software solutions to life\n",
      "\n",
      "--- Day 22: Monkey Market ---\n",
      "\n",
      "As you're all teleported deep into the jungle, a monkey steals The Historians'\n",
      "device! You'll need get it back while The Historians are looking for the Chief.\n",
      "\n",
      "The monkey that stole the device seems willing to trade it, but only in\n",
      "exchange for an absurd number of bananas. Your only option is to buy bananas on\n",
      "the Monkey Exchange Market.\n",
      "\n",
      "You aren't sure how the Monkey Exchange Market works, but one of The Historians\n",
      "senses trouble and comes over to help. Apparently, they've been studying these\n",
      "monkeys for a while and have deciphered their secrets.\n",
      "\n",
      "Today, the Market is full of monkeys buying good hiding spots. Fortunately,\n",
      "because of the time you recently spent in this jungle, you know lots of good\n",
      "hiding spots you can sell! If you sell enough hiding spots, you should be able\n",
      "to get enough bananas to buy the device back.\n",
      "\n",
      "On the Market, the buyers seem to use random prices, but their prices are\n",
      "actually only pseudorandom! If you know the secret of how they pick their\n",
      "prices, you can wait for the perfect time to sell.\n",
      "\n",
      "The part about secrets is literal, the Historian explains. Each buyer produces\n",
      "a pseudorandom sequence of secret numbers where each secret is derived from the\n",
      "previous.\n",
      "\n",
      "In particular, each buyer's secret number evolves into the next secret number\n",
      "in the sequence via the following process:\n",
      "\n",
      "  • Calculate the result of multiplying the secret number by 64. Then, mix this\n",
      "    result into the secret number. Finally, prune the secret number.\n",
      "  • Calculate the result of dividing the secret number by 32. Round the result\n",
      "    down to the nearest integer. Then, mix this result into the secret number.\n",
      "    Finally, prune the secret number.\n",
      "  • Calculate the result of multiplying the secret number by 2048. Then, mix\n",
      "    this result into the secret number. Finally, prune the secret number.\n",
      "\n",
      "Each step of the above process involves mixing and pruning:\n",
      "\n",
      "  • To mix a value into the secret number, calculate the bitwise XOR of the\n",
      "    given value and the secret number. Then, the secret number becomes the\n",
      "    result of that operation. (If the secret number is 42 and you were to mix\n",
      "    15 into the secret number, the secret number would become 37.)\n",
      "  • To prune the secret number, calculate the value of the secret number modulo\n",
      "    16777216. Then, the secret number becomes the result of that operation. (If\n",
      "    the secret number is 100000000 and you were to prune the secret number, the\n",
      "    secret number would become 16113920.)\n",
      "\n",
      "After this process completes, the buyer is left with the next secret number in\n",
      "the sequence. The buyer can repeat this process as many times as necessary to\n",
      "produce more secret numbers.\n",
      "\n",
      "So, if a buyer had a secret number of 123, that buyer's next ten secret numbers\n",
      "would be:\n",
      "\n",
      "15887950\n",
      "16495136\n",
      "527345\n",
      "704524\n",
      "1553684\n",
      "12683156\n",
      "11100544\n",
      "12249484\n",
      "7753432\n",
      "5908254\n",
      "\n",
      "Each buyer uses their own secret number when choosing their price, so it's\n",
      "important to be able to predict the sequence of secret numbers for each buyer.\n",
      "Fortunately, the Historian's research has uncovered the initial secret number\n",
      "of each buyer (your puzzle input). For example:\n",
      "\n",
      "1\n",
      "10\n",
      "100\n",
      "2024\n",
      "\n",
      "This list describes the initial secret number of four different\n",
      "secret-hiding-spot-buyers on the Monkey Exchange Market. If you can simulate\n",
      "secret numbers from each buyer, you'll be able to predict all of their future\n",
      "prices.\n",
      "\n",
      "In a single day, buyers each have time to generate 2000 new secret numbers. In\n",
      "this example, for each buyer, their initial secret number and the 2000th new\n",
      "secret number they would generate are:\n",
      "\n",
      "1: 8685429\n",
      "10: 4700978\n",
      "100: 15273692\n",
      "2024: 8667524\n",
      "\n",
      "Adding up the 2000th new secret number for each buyer produces 37327623.\n",
      "\n",
      "For each buyer, simulate the creation of 2000 new secret numbers. What is the\n",
      "sum of the 2000th secret number generated by each buyer?\n",
      "\n",
      "To play, please identify yourself via one of these services:\n",
      "\n",
      "[GitHub] [Google] [Twitter] [Reddit] - [How Does Auth Work?]\n",
      "\n"
     ]
    }
   ],
   "source": [
    "from aocd import submit\n",
    "\n",
    "submit(a)"
   ]
  },
  {
   "cell_type": "code",
   "execution_count": 23,
   "id": "8ac32947-59b1-4109-8430-e0331db519d2",
   "metadata": {},
   "outputs": [],
   "source": [
    "puzzle = Puzzle(year=2024, day=22)"
   ]
  },
  {
   "cell_type": "code",
   "execution_count": 31,
   "id": "da49c419-831c-4c07-adef-b0c80145f07b",
   "metadata": {},
   "outputs": [],
   "source": [
    "from aocd import get_puzzle\n",
    "\n",
    "puzzle = get_puzzle()\n"
   ]
  },
  {
   "cell_type": "code",
   "execution_count": 37,
   "id": "94c29a27-6f6d-441f-9141-5fd66c45db59",
   "metadata": {},
   "outputs": [],
   "source": [
    "def modten(num):\n",
    "    return num % 10\n",
    "\n",
    "def calc_changes(starting_val, evolved_numbers):\n",
    "    evolved_as_digits = map(modten, evolved_numbers)\n",
    "    start_digit = modten(int(starting_val))\n",
    "    changes = []\n",
    "    current = start_digit\n",
    "    for val in evolved_as_digits:\n",
    "        changes.append(val-current)\n",
    "        current = val\n",
    "\n",
    "    return changes"
   ]
  },
  {
   "cell_type": "code",
   "execution_count": 38,
   "id": "7a9c6233-2ec1-423a-b3c5-0a438b64875e",
   "metadata": {},
   "outputs": [],
   "source": [
    "changes = {}\n",
    "\n",
    "for key,val in data.items():\n",
    "    changes[key] = calc_changes(key, val)"
   ]
  },
  {
   "cell_type": "code",
   "execution_count": 40,
   "id": "e3a5c42c-f607-442b-808c-f8aedd7c96de",
   "metadata": {},
   "outputs": [],
   "source": [
    "def get_windows(changes):\n",
    "    windows = set()\n",
    "    length = len(changes)\n",
    "    for i, val in enumerate(changes):        \n",
    "        windows.add(tuple(changes[i : i + 4]))\n",
    "        if i + 4 == length - 1:\n",
    "            break\n",
    "    return windows"
   ]
  },
  {
   "cell_type": "code",
   "execution_count": 41,
   "id": "5b8e38cc-869e-4759-a1be-d0ccfa0555f6",
   "metadata": {},
   "outputs": [],
   "source": [
    "buyer_windows = {}\n",
    "\n",
    "for key, val in changes.items():\n",
    "    buyer_windows[key] = get_windows(val)"
   ]
  },
  {
   "cell_type": "code",
   "execution_count": 45,
   "id": "dd224161-12ef-4f1b-b9c3-b0553a2dc269",
   "metadata": {},
   "outputs": [],
   "source": [
    "def highest_tuple(a):\n",
    "    current_higest = a[0]\n",
    "\n",
    "    for (val, count) in a:\n",
    "        if count > current_higest[1]:\n",
    "            current_higest = (val, count)\n",
    "\n",
    "    return current_higest\n",
    "\n",
    "\n",
    "def most_intersections(values):\n",
    "    intesection_counts = []\n",
    "    for val in values:\n",
    "        count = 0\n",
    "        for windows in buyer_windows.values():\n",
    "            if val in windows:\n",
    "                count += 1\n",
    "        intesection_counts.append((val, count))\n",
    "\n",
    "    return highest_tuple(intesection_counts)\n",
    "\n",
    "    \n",
    "most_occuring_list = []\n",
    "\n",
    "for key, val in buyer_windows.items():\n",
    "    most_occuring_list.append(most_intersections(val))\n",
    "\n",
    "high = highest_tuple(most_occuring_list)"
   ]
  },
  {
   "cell_type": "code",
   "execution_count": 46,
   "id": "10eb71d3-3ea0-4dfe-b2e5-e22bb5ab96bf",
   "metadata": {},
   "outputs": [
    {
     "data": {
      "text/plain": [
       "((-1, 0, 1, 0), 397)"
      ]
     },
     "execution_count": 46,
     "metadata": {},
     "output_type": "execute_result"
    }
   ],
   "source": [
    "high"
   ]
  },
  {
   "cell_type": "code",
   "execution_count": null,
   "id": "6f96ddb8-3f75-40d1-a7ef-4206e28b644d",
   "metadata": {},
   "outputs": [],
   "source": [
    "def find_index_of_sublist(l):\n",
    "    indices = [i for i, x in enumerate(l) if x == high[1][0]]\n",
    "\n",
    "    for i in indices:\n",
    "        if i+4 > len(l):\n",
    "            return -1\n",
    "        if list(high[1]) == l[i:i+4]:\n",
    "            return i+4\n",
    "\n",
    "indexes = {key: find_index_of_sublist(val) for key, val in changes}\n",
    "\n",
    "indexes = "
   ]
  }
 ],
 "metadata": {
  "kernelspec": {
   "display_name": "Python 3 (ipykernel)",
   "language": "python",
   "name": "python3"
  },
  "language_info": {
   "codemirror_mode": {
    "name": "ipython",
    "version": 3
   },
   "file_extension": ".py",
   "mimetype": "text/x-python",
   "name": "python",
   "nbconvert_exporter": "python",
   "pygments_lexer": "ipython3",
   "version": "3.13.1"
  }
 },
 "nbformat": 4,
 "nbformat_minor": 5
}
