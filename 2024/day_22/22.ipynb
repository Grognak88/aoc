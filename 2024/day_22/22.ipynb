{
 "cells": [
  {
   "cell_type": "code",
   "execution_count": 1,
   "id": "2ca15175-f56f-4b62-ba7c-eb834a52fed1",
   "metadata": {},
   "outputs": [],
   "source": [
    "from aocd.models import Puzzle\n",
    "\n",
    "puzzle = Puzzle(year=2024, day=22)"
   ]
  },
  {
   "cell_type": "code",
   "execution_count": 2,
   "id": "3bf29bf6-8d54-4140-aa9a-eaeb2b4abb18",
   "metadata": {},
   "outputs": [],
   "source": [
    "indata = puzzle.input_data"
   ]
  },
  {
   "cell_type": "code",
   "execution_count": null,
   "id": "14ec9427-32f7-48be-a1a7-cc3612d00c83",
   "metadata": {},
   "outputs": [],
   "source": [
    "puzzle.view()"
   ]
  },
  {
   "cell_type": "code",
   "execution_count": 3,
   "id": "882b4639-631d-41d2-8e47-237cc6431e35",
   "metadata": {},
   "outputs": [],
   "source": [
    "def mixin(a,b):\n",
    "    return a ^ b\n",
    "\n",
    "def prune(a):\n",
    "    return a % 16777216"
   ]
  },
  {
   "cell_type": "code",
   "execution_count": 4,
   "id": "efb4e03b-6835-4002-b66e-f58cbce8424d",
   "metadata": {},
   "outputs": [],
   "source": [
    "data = indata.split(\"\\n\")"
   ]
  },
  {
   "cell_type": "code",
   "execution_count": 5,
   "id": "484e39ef-9e0d-4d75-833f-f72399e012a3",
   "metadata": {},
   "outputs": [],
   "source": [
    "data = dict.fromkeys(data)"
   ]
  },
  {
   "cell_type": "code",
   "execution_count": 6,
   "id": "688f6f8e-7a8e-4cd2-b0ef-785c161739eb",
   "metadata": {},
   "outputs": [],
   "source": [
    "def evolve_number(num):\n",
    "    step1 = num * 64\n",
    "    step1 = mixin(num,step1)\n",
    "    step1 = prune(step1)\n",
    "\n",
    "    step2 = step1 // 32\n",
    "    step2 = mixin(step1, step2)\n",
    "    step2 = prune(step2)\n",
    "\n",
    "    step3 = step2 * 2048\n",
    "    step3 = mixin(step2, step3)\n",
    "    step3 = prune(step3)\n",
    "\n",
    "    return step3"
   ]
  },
  {
   "cell_type": "code",
   "execution_count": 7,
   "id": "2dde100c-6c8f-4dcc-ace4-ba2c48993b5c",
   "metadata": {},
   "outputs": [],
   "source": [
    "def work(start):\n",
    "    accum = []\n",
    "    current = start\n",
    "    for i in range(2000):\n",
    "        current = evolve_number(current)\n",
    "        accum.append(current)\n",
    "\n",
    "    return accum"
   ]
  },
  {
   "cell_type": "code",
   "execution_count": 8,
   "id": "b71e0388-bbfc-455d-9459-95b310405c5e",
   "metadata": {},
   "outputs": [],
   "source": [
    "for key in data:\n",
    "    data[key] = work(int(key))"
   ]
  },
  {
   "cell_type": "code",
   "execution_count": 21,
   "id": "7da23d37-40d9-4834-8c1b-1bc7a7972d5b",
   "metadata": {},
   "outputs": [],
   "source": [
    "two_thousandth = []\n",
    "\n",
    "for key, val in data.items():\n",
    "    two_thousandth.append(val[-1])\n",
    "\n",
    "\n",
    "a = sum(two_thousandth)"
   ]
  },
  {
   "cell_type": "code",
   "execution_count": null,
   "id": "c128332e-a542-497c-ae64-efc004a4d9e5",
   "metadata": {},
   "outputs": [],
   "source": [
    "from aocd import submit\n",
    "\n",
    "submit(a)"
   ]
  },
  {
   "cell_type": "code",
   "execution_count": 23,
   "id": "8ac32947-59b1-4109-8430-e0331db519d2",
   "metadata": {},
   "outputs": [],
   "source": [
    "puzzle = Puzzle(year=2024, day=22)"
   ]
  },
  {
   "cell_type": "code",
   "execution_count": 31,
   "id": "da49c419-831c-4c07-adef-b0c80145f07b",
   "metadata": {},
   "outputs": [],
   "source": [
    "from aocd import get_puzzle\n",
    "\n",
    "puzzle = get_puzzle()\n"
   ]
  },
  {
   "cell_type": "code",
   "execution_count": 9,
   "id": "94c29a27-6f6d-441f-9141-5fd66c45db59",
   "metadata": {},
   "outputs": [],
   "source": [
    "def modten(num):\n",
    "    return num % 10\n",
    "\n",
    "def calc_changes(starting_val, evolved_numbers):\n",
    "    evolved_as_digits = map(modten, evolved_numbers)\n",
    "    start_digit = modten(int(starting_val))\n",
    "    changes = []\n",
    "    current = start_digit\n",
    "    for val in evolved_as_digits:\n",
    "        changes.append(val-current)\n",
    "        current = val\n",
    "\n",
    "    return changes"
   ]
  },
  {
   "cell_type": "code",
   "execution_count": 10,
   "id": "7a9c6233-2ec1-423a-b3c5-0a438b64875e",
   "metadata": {},
   "outputs": [],
   "source": [
    "changes = {}\n",
    "\n",
    "for key,val in data.items():\n",
    "    changes[key] = calc_changes(key, val)"
   ]
  },
  {
   "cell_type": "code",
   "execution_count": 11,
   "id": "e3a5c42c-f607-442b-808c-f8aedd7c96de",
   "metadata": {},
   "outputs": [],
   "source": [
    "def get_windows(changes):\n",
    "    windows = set()\n",
    "    length = len(changes)\n",
    "    for i, val in enumerate(changes):        \n",
    "        windows.add(tuple(changes[i : i + 4]))\n",
    "        if i + 4 == length - 1:\n",
    "            break\n",
    "    return windows"
   ]
  },
  {
   "cell_type": "code",
   "execution_count": 12,
   "id": "5b8e38cc-869e-4759-a1be-d0ccfa0555f6",
   "metadata": {},
   "outputs": [],
   "source": [
    "buyer_windows = {}\n",
    "\n",
    "for key, val in changes.items():\n",
    "    buyer_windows[key] = get_windows(val)"
   ]
  },
  {
   "cell_type": "code",
   "execution_count": 45,
   "id": "dd224161-12ef-4f1b-b9c3-b0553a2dc269",
   "metadata": {},
   "outputs": [],
   "source": [
    "def highest_tuple(a):\n",
    "    current_higest = a[0]\n",
    "\n",
    "    for (val, count) in a:\n",
    "        if count > current_higest[1]:\n",
    "            current_higest = (val, count)\n",
    "\n",
    "    return current_higest\n",
    "\n",
    "\n",
    "def most_intersections(values):\n",
    "    intesection_counts = []\n",
    "    for val in values:\n",
    "        count = 0\n",
    "        for windows in buyer_windows.values():\n",
    "            if val in windows:\n",
    "                count += 1\n",
    "        intesection_counts.append((val, count))\n",
    "\n",
    "    return highest_tuple(intesection_counts)\n",
    "\n",
    "    \n",
    "most_occuring_list = []\n",
    "\n",
    "for key, val in buyer_windows.items():\n",
    "    most_occuring_list.append(most_intersections(val))\n",
    "\n",
    "high = highest_tuple(most_occuring_list)"
   ]
  },
  {
   "cell_type": "code",
   "execution_count": 13,
   "id": "10eb71d3-3ea0-4dfe-b2e5-e22bb5ab96bf",
   "metadata": {},
   "outputs": [],
   "source": [
    "high = ((-1, 0, 1, 0), 397)"
   ]
  },
  {
   "cell_type": "code",
   "execution_count": 22,
   "id": "6f96ddb8-3f75-40d1-a7ef-4206e28b644d",
   "metadata": {},
   "outputs": [],
   "source": [
    "def find_index_of_sublist(l):\n",
    "    indices = [i for i, x in enumerate(l) if x == high[0][0]]\n",
    "\n",
    "    for i in indices:\n",
    "        if i+4 > len(l):\n",
    "            return -1\n",
    "        if list(high[0]) == l[i:i+4]:\n",
    "            return i+4\n",
    "\n",
    "indexes = {key: find_index_of_sublist(val) for key, val in changes.items()}\n",
    "\n",
    "indexes = {key: val for key, val in indexes.items() if val != -1 and val is not None}"
   ]
  },
  {
   "cell_type": "code",
   "execution_count": 24,
   "id": "406219eb-f506-463d-bad1-f36529a5a373",
   "metadata": {},
   "outputs": [
    {
     "data": {
      "text/plain": [
       "1830"
      ]
     },
     "execution_count": 24,
     "metadata": {},
     "output_type": "execute_result"
    }
   ],
   "source": [
    "def get_val_at_index(l, i):\n",
    "    value = l[i] % 10\n",
    "    return value\n",
    "\n",
    "sum([get_val_at_index(data[key], i) for key, i in indexes.items()])"
   ]
  },
  {
   "cell_type": "code",
   "execution_count": 25,
   "id": "2f971d4b-c0ad-4f5c-8494-173b4d9592c2",
   "metadata": {},
   "outputs": [
    {
     "name": "stdout",
     "output_type": "stream",
     "text": [
      "Working: 0\n",
      "Working: 400\n",
      "Working: 800\n",
      "Working: 1200\n",
      "Working: 1600\n",
      "Working: 2000\n",
      "P1: 18525593556\n",
      "P2 2089\n"
     ]
    }
   ],
   "source": [
    "from collections import Counter\n",
    "\n",
    "\n",
    "def mix(given, currSecret):\n",
    "    return given ^ currSecret\n",
    "def prune(currSecret):\n",
    "    return currSecret % 16777216\n",
    "\n",
    "\n",
    "def secret2kStep(n):\n",
    "    secret = n\n",
    "    given = secret*64\n",
    "    secret = mix(given, secret)\n",
    "    secret = prune(secret)\n",
    "    given = int(secret /32)\n",
    "    secret = mix(given, secret)\n",
    "    secret = prune(secret)\n",
    "    given = secret*2048\n",
    "    secret = mix(given,secret)\n",
    "    secret = prune(secret)\n",
    "    return secret\n",
    "\n",
    "p1Res = 0\n",
    "p2ResCnt = Counter()\n",
    "cnt = 0\n",
    "for k in open(\"input.txt\"):\n",
    "    val = int(k.strip())\n",
    "    cCnt = Counter()\n",
    "    patVals = [\"\", \"\", \"\", \"\", \"\"]\n",
    "    prevDigit = val % 10\n",
    "    nValsSet = False\n",
    "    for j in range(2000):\n",
    "        val = secret2kStep(val)\n",
    "        lastDigit =   val % 10\n",
    "        digitToAdd = lastDigit - prevDigit  \n",
    "        patVals = [digitToAdd] +patVals[:4]\n",
    "        if not nValsSet:\n",
    "            if all(isinstance(x,int) for x in patVals):\n",
    "                nValsSet = True\n",
    "        if nValsSet:\n",
    "            cSeq = str(patVals[3])+\",\"+str(patVals[2])+\",\"+str(patVals[1])+\",\"+str(patVals[0])\n",
    "            if cSeq not in cCnt:\n",
    "                cCnt.update({cSeq:lastDigit})\n",
    "            \n",
    "        prevDigit = lastDigit\n",
    "    p1Res += val\n",
    "    p2ResCnt.update(cCnt)\n",
    "    if cnt % 400 == 0:\n",
    "        print(\"Working:\",cnt)\n",
    "    cnt += 1\n",
    "\n",
    "maxKey = max(p2ResCnt, key=p2ResCnt.get)\n",
    "p2Res  = p2ResCnt[maxKey]\n",
    "\n",
    "print(\"P1:\", p1Res)\n",
    "print(\"P2\", p2Res)"
   ]
  }
 ],
 "metadata": {
  "kernelspec": {
   "display_name": "Python 3 (ipykernel)",
   "language": "python",
   "name": "python3"
  },
  "language_info": {
   "codemirror_mode": {
    "name": "ipython",
    "version": 3
   },
   "file_extension": ".py",
   "mimetype": "text/x-python",
   "name": "python",
   "nbconvert_exporter": "python",
   "pygments_lexer": "ipython3",
   "version": "3.13.1"
  }
 },
 "nbformat": 4,
 "nbformat_minor": 5
}
