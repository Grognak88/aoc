from collections import defaultdict

with open("input.txt") as file:
    data = file.readlines()
    data = [line.strip("\n").split("-") for line in data]

connections= defaultdict(set)

for pair in data:
    connections[pair[0]].add(pair[1])
    connections[pair[1]].add(pair[0])


len(connections)


thrupple = set()

for host in connections:
    if host[0] == "t":
        for conn in connections[host]:
            for third in (connections[host] & connections[conn]):
                thrupple.add(tuple(sorted((host,conn,third))))

len(thrupple)


import networkx

g = networkx.Graph(connections)
s = max(networkx.find_cliques(g), key=len)

",".join(sorted(s))
