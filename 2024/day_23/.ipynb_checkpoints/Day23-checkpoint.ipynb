{
 "cells": [
  {
   "cell_type": "code",
   "execution_count": 3,
   "id": "84294cb0-a4ce-4725-a7e8-46a1fe17ca27",
   "metadata": {},
   "outputs": [],
   "source": [
    "from collections import defaultdict\n",
    "\n",
    "with open(\"input.txt\") as file:\n",
    "    data = file.readlines()\n",
    "    data = [line.strip(\"\\n\").split(\"-\") for line in data]\n",
    "\n",
    "connections= defaultdict(set)\n",
    "\n",
    "for pair in data:\n",
    "    connections[pair[0]].add(pair[1])\n",
    "    connections[pair[1]].add(pair[0])"
   ]
  },
  {
   "cell_type": "code",
   "execution_count": 5,
   "id": "4f3588d1-8ca0-4f72-a0c2-1c0c315312a9",
   "metadata": {},
   "outputs": [
    {
     "data": {
      "text/plain": [
       "520"
      ]
     },
     "execution_count": 5,
     "metadata": {},
     "output_type": "execute_result"
    }
   ],
   "source": [
    "len(connections)"
   ]
  },
  {
   "cell_type": "code",
   "execution_count": 12,
   "id": "d9426fec-5ed1-446d-a6ea-901fe1226f43",
   "metadata": {},
   "outputs": [
    {
     "data": {
      "text/plain": [
       "1400"
      ]
     },
     "execution_count": 12,
     "metadata": {},
     "output_type": "execute_result"
    }
   ],
   "source": [
    "thrupple = set()\n",
    "\n",
    "for host in connections:\n",
    "    if host[0] == \"t\":\n",
    "        for conn in connections[host]:\n",
    "            for third in (connections[host] & connections[conn]):\n",
    "                thrupple.add(tuple(sorted((host,conn,third))))\n",
    "\n",
    "len(thrupple)"
   ]
  },
  {
   "cell_type": "code",
   "execution_count": 13,
   "id": "8e0a7b81-5371-4c2f-b3b7-bd57e300c621",
   "metadata": {},
   "outputs": [
    {
     "data": {
      "text/plain": [
       "'am,bc,cz,dc,gy,hk,li,qf,th,tj,wf,xk,xo'"
      ]
     },
     "execution_count": 13,
     "metadata": {},
     "output_type": "execute_result"
    }
   ],
   "source": [
    "import networkx\n",
    "\n",
    "g = networkx.Graph(connections)\n",
    "s = max(networkx.find_cliques(g), key=len)\n",
    "\n",
    "\",\".join(sorted(s))"
   ]
  }
 ],
 "metadata": {
  "kernelspec": {
   "display_name": "Python 3 (ipykernel)",
   "language": "python",
   "name": "python3"
  },
  "language_info": {
   "codemirror_mode": {
    "name": "ipython",
    "version": 3
   },
   "file_extension": ".py",
   "mimetype": "text/x-python",
   "name": "python",
   "nbconvert_exporter": "python",
   "pygments_lexer": "ipython3",
   "version": "3.13.1"
  }
 },
 "nbformat": 4,
 "nbformat_minor": 5
}
